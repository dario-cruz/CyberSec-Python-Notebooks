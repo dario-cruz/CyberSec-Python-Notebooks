{
  "nbformat": 4,
  "nbformat_minor": 0,
  "metadata": {
    "colab": {
      "provenance": [],
      "authorship_tag": "ABX9TyOTjyG9h3UGX81Hdv6KVQRq",
      "include_colab_link": true
    },
    "kernelspec": {
      "name": "python3",
      "display_name": "Python 3"
    },
    "language_info": {
      "name": "python"
    }
  },
  "cells": [
    {
      "cell_type": "markdown",
      "metadata": {
        "id": "view-in-github",
        "colab_type": "text"
      },
      "source": [
        "<a href=\"https://colab.research.google.com/github/dario-cruz/CyberSec-Python-Notebooks/blob/main/Algorithm_for_file_updates_in_Python.ipynb\" target=\"_parent\"><img src=\"https://colab.research.google.com/assets/colab-badge.svg\" alt=\"Open In Colab\"/></a>"
      ]
    },
    {
      "cell_type": "markdown",
      "source": [
        "# Updating Files in Python\n",
        "## Scenario\n",
        "You are a security professional working at a health care company. As part of your job, you're required to regularly update a file that identifies the employees who can access restricted content. The contents of the file are based on who is working with personal patient records. Employees are restricted access based on their IP address. There is an allow list for IP addresses permitted to sign into the restricted subnetwork. There's also a remove list that identifies which employees you must remove from this allow list.\n",
        "\n",
        "Your task is to create an algorithm that uses Python code to check whether the allow list contains any IP addresses identified on the remove list. If so, you should remove those IP addresses from the file containing the allow list.\n",
        "\n"
      ],
      "metadata": {
        "id": "1eujyakvj-4N"
      }
    },
    {
      "cell_type": "markdown",
      "source": [
        "## Importing of the file.\n",
        "Lets use the `with` and `open()` functions to open the file that we need so that we can work with the data lateron.\n",
        "\n",
        "*Note that I have uploaded the target allowed_list.txt file to the runtime instance in google colab. The text file is completely empty and we will generate some IP address data later for use in the project.*"
      ],
      "metadata": {
        "id": "bBSvSPN66W44"
      }
    },
    {
      "cell_type": "code",
      "execution_count": 18,
      "metadata": {
        "colab": {
          "base_uri": "https://localhost:8080/"
        },
        "id": "SoTQdrqjj43y",
        "outputId": "e70ab5a6-ebb5-4cc2-9e47-910ea893a2c7"
      },
      "outputs": [
        {
          "output_type": "stream",
          "name": "stdout",
          "text": [
            "[]\n"
          ]
        }
      ],
      "source": [
        "# Import the allowed_list file.\n",
        "# Not that the file is empty.\n",
        "imported_file = 'allowed_list.txt'\n",
        "with open(imported_file, 'r') as file:\n",
        "  allowed_list_imported = file.read()\n",
        "\n",
        "# Convert allowed_list_imported to an array.\n",
        "allowed_list_imported = allowed_list_imported.split()\n",
        "\n",
        "# Print it out for confirmation. Should be empty.\n",
        "print(allowed_list_imported)"
      ]
    },
    {
      "cell_type": "code",
      "source": [
        "# Generate some usable data.\n",
        "import random\n",
        "# Create function to create random IP addresses.\n",
        "def generate_ip():\n",
        "  octet_one = random.randrange(2, 254, 1)\n",
        "  octet_two = random.randrange(2, 254, 1)\n",
        "\n",
        "  octet_one = str(octet_one)\n",
        "  octet_two = str(octet_two)\n",
        "\n",
        "  ip_address = '10.10.' + octet_one + \".\" + octet_two\n",
        "  return ip_address\n",
        "\n",
        "# Variable for the number of IP's we want.\n",
        "ip_count = 0\n",
        "\n",
        "while ip_count <= 20:\n",
        "  # Increment the counter\n",
        "  ip_count = ip_count + 1\n",
        "  # Generate new IP\n",
        "  new_ip = generate_ip()\n",
        "  # Print it out for confirmation\n",
        "  print(new_ip)\n",
        "  # Append it to the imported file.\n",
        "  allowed_list_imported.append(new_ip)\n",
        "\n",
        "print(allowed_list_imported)"
      ],
      "metadata": {
        "colab": {
          "base_uri": "https://localhost:8080/"
        },
        "id": "r4dBi2-nmdsB",
        "outputId": "00f50fce-6163-48ff-ef72-70ec591e132a"
      },
      "execution_count": 19,
      "outputs": [
        {
          "output_type": "stream",
          "name": "stdout",
          "text": [
            "10.10.186.131\n",
            "10.10.135.177\n",
            "10.10.109.36\n",
            "10.10.56.52\n",
            "10.10.220.135\n",
            "10.10.229.233\n",
            "10.10.234.122\n",
            "10.10.9.31\n",
            "10.10.241.208\n",
            "10.10.25.215\n",
            "10.10.186.177\n",
            "10.10.3.106\n",
            "10.10.180.11\n",
            "10.10.235.115\n",
            "10.10.35.88\n",
            "10.10.172.192\n",
            "10.10.72.90\n",
            "10.10.89.13\n",
            "10.10.223.171\n",
            "10.10.240.152\n",
            "10.10.177.19\n",
            "['10.10.186.131', '10.10.135.177', '10.10.109.36', '10.10.56.52', '10.10.220.135', '10.10.229.233', '10.10.234.122', '10.10.9.31', '10.10.241.208', '10.10.25.215', '10.10.186.177', '10.10.3.106', '10.10.180.11', '10.10.235.115', '10.10.35.88', '10.10.172.192', '10.10.72.90', '10.10.89.13', '10.10.223.171', '10.10.240.152', '10.10.177.19']\n"
          ]
        }
      ]
    },
    {
      "cell_type": "markdown",
      "source": [
        "So now that we have our data to work with, we need to be able to filter it.\n",
        "\n",
        "Lets make a list of IP addresses that should not have access in out scenario."
      ],
      "metadata": {
        "id": "iVwD1l7iz6V8"
      }
    },
    {
      "cell_type": "code",
      "source": [
        "# Create list of IP's that should not be allowed.\n",
        "# I selected a random assortment of 5 IP addresses that I know are on the list.\n",
        "deny_list = ['10.10.9.31', '10.10.35.88', '10.10.89.13', '10.10.56.52', '10.10.177.19']\n",
        "\n",
        "# Dispaly all of the data.\n",
        "print('This is the deny list')\n",
        "print(deny_list)\n",
        "print('This is the allowed list')\n",
        "print(allowed_list_imported)"
      ],
      "metadata": {
        "colab": {
          "base_uri": "https://localhost:8080/"
        },
        "id": "ZXPJ9jj5q1V7",
        "outputId": "a20940cf-f175-4775-9b4e-80167f3d70a2"
      },
      "execution_count": 22,
      "outputs": [
        {
          "output_type": "stream",
          "name": "stdout",
          "text": [
            "This is the deny list\n",
            "['10.10.9.31', '10.10.35.88', '10.10.89.13', '10.10.56.52', '10.10.177.19']\n",
            "This is the allowed list\n",
            "['10.10.186.131', '10.10.135.177', '10.10.109.36', '10.10.56.52', '10.10.220.135', '10.10.229.233', '10.10.234.122', '10.10.9.31', '10.10.241.208', '10.10.25.215', '10.10.186.177', '10.10.3.106', '10.10.180.11', '10.10.235.115', '10.10.35.88', '10.10.172.192', '10.10.72.90', '10.10.89.13', '10.10.223.171', '10.10.240.152', '10.10.177.19']\n"
          ]
        }
      ]
    },
    {
      "cell_type": "markdown",
      "source": [
        "## It's filtering time.\n",
        "Okay so now that we have both our allowed list of IP's and out deny list of IP's, we need to update the allowed list to remove any entries that match up with the deny list.\n",
        "\n",
        "We will accomplish this task with a for loop that will iterate over our allow list and if any IP's match content in the deny list, we will use the `.remove()` method to delete the entry, affectively keeping our PII/SPII secure."
      ],
      "metadata": {
        "id": "DA4dgJEU1gwS"
      }
    },
    {
      "cell_type": "code",
      "source": [
        "# Create the for loop to iterate over all of the data in the list.\n",
        "for ip in allowed_list_imported:\n",
        "  # If the IP matchees any data in the deny list remove it.\n",
        "  if ip in deny_list:\n",
        "    allowed_list_imported.remove(ip)\n",
        "\n",
        "# Print out our new and up to date allowed list.\n",
        "print(allowed_list_imported)"
      ],
      "metadata": {
        "colab": {
          "base_uri": "https://localhost:8080/"
        },
        "id": "pYqAidff2C0f",
        "outputId": "b142f4e3-3778-442f-8196-479c090fa221"
      },
      "execution_count": 23,
      "outputs": [
        {
          "output_type": "stream",
          "name": "stdout",
          "text": [
            "['10.10.186.131', '10.10.135.177', '10.10.109.36', '10.10.220.135', '10.10.229.233', '10.10.234.122', '10.10.241.208', '10.10.25.215', '10.10.186.177', '10.10.3.106', '10.10.180.11', '10.10.235.115', '10.10.172.192', '10.10.72.90', '10.10.223.171', '10.10.240.152']\n"
          ]
        }
      ]
    },
    {
      "cell_type": "markdown",
      "source": [
        "## Store the contents in the allowed_list.txt file.\n",
        "So now we have our imported array/list updated inside of python. We need to export that data back to the file via the write option in the `open()` function.\n",
        "\n",
        "### Conversion\n",
        "The write methods of the open command only accept strings as arguments so we need to make use of the `.join()` method to create the needed data type."
      ],
      "metadata": {
        "id": "wfVqUx4q263a"
      }
    },
    {
      "cell_type": "code",
      "source": [
        "# Convert the list to the string data type in preperaion for exporting.\n",
        "allowed_list_imported = \"\\n\".join(allowed_list_imported)\n",
        "print(allowed_list_imported)"
      ],
      "metadata": {
        "colab": {
          "base_uri": "https://localhost:8080/"
        },
        "id": "HRbs_04M4TP7",
        "outputId": "4bd96cbd-e126-4a87-e0d5-006b07241731"
      },
      "execution_count": 27,
      "outputs": [
        {
          "output_type": "stream",
          "name": "stdout",
          "text": [
            "10.10.186.131\n",
            "10.10.135.177\n",
            "10.10.109.36\n",
            "10.10.220.135\n",
            "10.10.229.233\n",
            "10.10.234.122\n",
            "10.10.241.208\n",
            "10.10.25.215\n",
            "10.10.186.177\n",
            "10.10.3.106\n",
            "10.10.180.11\n",
            "10.10.235.115\n",
            "10.10.172.192\n",
            "10.10.72.90\n",
            "10.10.223.171\n",
            "10.10.240.152\n"
          ]
        }
      ]
    },
    {
      "cell_type": "code",
      "source": [
        "# Open the allowed_list file form the imported_file variable.\n",
        "with open(imported_file, 'w') as file:\n",
        "  # Write the contents of the list to the allowed_list.txt.\n",
        "  # This will whipe and add the list data. We can use append functionality\n",
        "  # later to update/add more IPs.\n",
        "  file.write(allowed_list_imported)"
      ],
      "metadata": {
        "id": "yk7fCcv72dQI"
      },
      "execution_count": 28,
      "outputs": []
    }
  ]
}