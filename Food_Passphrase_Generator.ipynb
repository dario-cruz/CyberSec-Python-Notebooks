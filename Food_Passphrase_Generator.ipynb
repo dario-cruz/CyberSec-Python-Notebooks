{
  "nbformat": 4,
  "nbformat_minor": 0,
  "metadata": {
    "colab": {
      "provenance": [],
      "authorship_tag": "ABX9TyM/tnmHV1qCQFTdbLU6MfDx",
      "include_colab_link": true
    },
    "kernelspec": {
      "name": "python3",
      "display_name": "Python 3"
    },
    "language_info": {
      "name": "python"
    }
  },
  "cells": [
    {
      "cell_type": "markdown",
      "metadata": {
        "id": "view-in-github",
        "colab_type": "text"
      },
      "source": [
        "<a href=\"https://colab.research.google.com/github/dario-cruz/CyberSec-Python-Notebooks/blob/main/Food_Passphrase_Generator.ipynb\" target=\"_parent\"><img src=\"https://colab.research.google.com/assets/colab-badge.svg\" alt=\"Open In Colab\"/></a>"
      ]
    },
    {
      "cell_type": "markdown",
      "source": [
        "# Food Related Passphrase Generator\n",
        "\n",
        "*By Dario Cruz* [DarioCruz.dev](https://dariocruz.dev/)\n",
        "\n",
        "The goal of this project and notebook is to create a passphrase generator that will allow for creation of strong passwords related to the food industry so that users in my organization will be able to easily remember passwords."
      ],
      "metadata": {
        "id": "2J5V6aDbDArt"
      }
    },
    {
      "cell_type": "markdown",
      "source": [
        "## Importing the word list\n",
        "After doing some searching after having the initial idea, I found a github repo that contains a word list of only food items. [Food List by Peterdemin](https://gist.github.com/peterdemin/920ec3eaaa0a9f3cafd3a855557f5e0c). I proceeded to download the provided text file for use in this project.\n",
        "\n",
        "In order to get the file into google colab we have a few options, we can upload the file to the runtime instance but, once the runtime env has ended the file will be gone, this doesn't give us the persistatnce that we need for other individuals to use the notebook.\n",
        "\n",
        "The only option for persistence is to import the file directly from the repo.\n",
        "\n",
        "\n",
        "---\n",
        "\n",
        "🚨**Run the cell below to import the file into the runtime environment.**🚨\n",
        "\n",
        "*This needs to be done before the rest of the code is executed in other cells*"
      ],
      "metadata": {
        "id": "CA1C8Bg9nnyC"
      }
    },
    {
      "cell_type": "code",
      "source": [
        "# Import file into Colab runtime env.\n",
        "!wget -P / https://gist.githubusercontent.com/peterdemin/920ec3eaaa0a9f3cafd3a855557f5e0c/raw/9c7337d7f6274de704f9018ed363d51dd7a0b128/food.txt"
      ],
      "metadata": {
        "id": "IYJ5Pgl0t67h",
        "colab": {
          "base_uri": "https://localhost:8080/"
        },
        "outputId": "cbe11ea8-ff7b-49b8-eab3-89469b028692"
      },
      "execution_count": 2,
      "outputs": [
        {
          "output_type": "stream",
          "name": "stdout",
          "text": [
            "--2024-08-13 16:46:31--  https://gist.githubusercontent.com/peterdemin/920ec3eaaa0a9f3cafd3a855557f5e0c/raw/9c7337d7f6274de704f9018ed363d51dd7a0b128/food.txt\n",
            "Resolving gist.githubusercontent.com (gist.githubusercontent.com)... 185.199.108.133, 185.199.109.133, 185.199.110.133, ...\n",
            "Connecting to gist.githubusercontent.com (gist.githubusercontent.com)|185.199.108.133|:443... connected.\n",
            "HTTP request sent, awaiting response... 200 OK\n",
            "Length: 6065 (5.9K) [text/plain]\n",
            "Saving to: ‘food.txt’\n",
            "\n",
            "ood.txt             100%[===================>]   5.92K  --.-KB/s    in 0s      \n",
            "\n",
            "2024-08-13 16:46:31 (82.1 MB/s) - ‘food.txt’ saved [6065/6065]\n",
            "\n"
          ]
        }
      ]
    },
    {
      "cell_type": "code",
      "execution_count": null,
      "metadata": {
        "id": "FB-MkzpiC8j6"
      },
      "outputs": [],
      "source": [
        "# Open the file via pythons built in file handling mechanisms.\n",
        "with open('food.txt', 'r') as file:\n",
        "  foodlist = file.read()\n",
        "\n",
        "# Print the result to check if all is good.\n",
        "print(foodlist)"
      ]
    },
    {
      "cell_type": "markdown",
      "source": [
        "# Coverting to an Array\n",
        "With pythons builtin file handling, when a file is imported it is imported as a string, with `/n` in between items on the list. It gets displayed as what may look like a list when the output is generated, but to work with it better we need to convert it into an array so that we can use array specific method to process and create our passphrase.\n",
        "\n",
        "To do this we will use the python string method, `.split()`."
      ],
      "metadata": {
        "id": "y-yTgyBpvKOO"
      }
    },
    {
      "cell_type": "code",
      "source": [
        "# Convert from string to an array.\n",
        "foodlist = foodlist.split()\n",
        "\n",
        "# Print it to check how it has changed\n",
        "print(foodlist)"
      ],
      "metadata": {
        "colab": {
          "base_uri": "https://localhost:8080/"
        },
        "id": "SZvrlTUywB2w",
        "outputId": "1aaf4875-6d37-41b1-ac1a-de83dafe394f"
      },
      "execution_count": 4,
      "outputs": [
        {
          "output_type": "stream",
          "name": "stdout",
          "text": [
            "['abiyuch', 'acerola', 'acorn', 'agave', 'agents', 'agutuk', 'alfalfa', 'amaranth', 'animal', 'apache', 'apple', 'apples', 'applesauce', 'apricot', 'apricots', 'arrowhead', 'arrowroot', 'artichokes', 'artificial', 'arugula', 'ascidians', 'asparagus', 'avocados', 'baby', 'babyfood', 'bacon', 'bagel', 'bagels', 'baking', 'balls', 'balsam-pear', 'bamboo', 'bananas', 'bar', 'barbecue', 'barley', 'bars', 'basil', 'bean', 'beans', 'bear', 'beef', 'beerwurst', 'beet', 'beets', 'berry', 'besan', 'beverage', 'beverages', 'biscuits', 'bison', 'bits', 'bitter', 'blackberries', 'blackberry', 'blackeyes', 'blend', 'blueberries', 'blueberry', 'bockwurst', 'bologna', 'borage', 'bowl', 'boysenberries', 'bran', 'brand', 'bratwurst', 'braunschweiger', 'bread', 'breadfruit', 'breakfast', 'breast', 'broadbeans', 'broccoli', 'broth', 'brotwurst', 'brussels', 'buckwheat', 'buffalo', 'bulgur', 'buns', 'burdock', 'burgers', 'burrito', 'butter', 'butterbur', 'butters', 'cabbage', 'cake', 'candied', 'candies', 'capers', 'carambola', 'carbonated', 'cardoon', 'caribou', 'carissa', 'carne', 'carob', 'carob-flavor', 'carrot', 'carrots', 'cassava', 'catsup', 'cattail', 'cauliflower', 'celeriac', 'celery', 'celtuce', 'cereal', 'cereals', 'chard', 'chayote', 'cheese', 'cheesecake', 'cheesefurter', 'cherimoya', 'cherries', 'chewing', 'chicken', 'chickpea', 'chickpeas', 'chicory', 'chilchen', 'child', 'chili', 'chips', 'chiton', 'chives', 'chocolate', 'chocolate-flavor', 'chocolate-flavored', 'chokecherries', 'chorizo', 'chrysanthemum', 'cilantro', 'cinnamon', 'citronella', 'citrus', 'clam', 'clementines', 'cloudberries', 'cockles', 'cocktail', 'cocoa', 'coffee', 'coffeecake', 'collards', 'commercially', 'concentrate', 'cone', 'cones', 'confectionery', 'containing', 'cookie', 'cookies', 'coriander', 'corn', 'corned', 'cornmeal', 'cornsalad', 'cornstarch', 'cotija', 'couscous', 'cowpeas', 'crabapples', 'cracker', 'crackers', 'cranberries', 'cranberry', 'cranberry-apple', 'cranberry-apricot', 'cranberry-grape', 'cranberry-orange', 'cream', 'creams', 'creamy', 'cress', 'croissants', 'croutons', 'crumbs', 'crust', 'crustaceans', 'cucumber', 'currants', 'custard-apple', 'custards', 'dairy', 'dandelion', 'danish', 'dates', 'deer', 'dessert', 'desserts', 'diabetes', 'dill', 'dinner', 'dip', 'dishes', 'dock', 'dogs', 'dough', 'doughnuts', 'dove', 'dressing', 'drink', 'drippings', 'drumstick', 'dry', 'duck', 'dulce', 'durian', 'dutch', 'ear', 'edamame', 'egg', 'eggnog', 'eggnog-flavor', 'eggplant', 'eggs', 'elderberries', 'elk', 'emu', 'endive', 'energy', 'entrees', 'epazote', 'eppaw', 'extender', 'extract', 'falafel', 'fast', 'fat', 'fava', 'feijoa', 'fennel', 'fern', 'ferns', 'fiddlehead', 'figs', 'fillets', 'fillings', 'fireweed', 'fish', 'flakes', 'flan', 'flavored', 'flour', 'flours', 'flower', 'flowers', 'fluid', 'focaccia', 'foie', 'food', 'foods', 'formula', 'formulated', 'frankfurter', 'franks', 'frijoles', 'frog', 'from', 'frostings', 'frozen', 'fruit', 'fruit-flavored', 'frybread', 'frying', 'fungi', 'garbanzo', 'garlic', 'gelatin', 'gelatins', 'germ', 'ginger', 'gluten', 'goat', 'goose', 'gooseberries', 'gourd', 'grain', 'gram', 'granola', 'grape', 'grapefruit', 'grapes', 'gras', 'grass', 'gravy', 'green', 'greens', 'groats', 'ground', 'groundcherries', 'grouse', 'guacamole', 'guanabana', 'guava', 'guavas', 'guinea', 'gum', 'gums', 'ham', 'hazelnut', 'hazelnuts', 'headcheese', 'hearts', 'hen', 'hibiscus', 'hips', 'hominy', 'honey', 'horned', 'horseradish', 'household', 'huckleberries', 'hummus', 'hush', 'hyacinth', 'hyacinth-beans', 'hydrogenated', 'hydrolyzed', 'ice', 'imitation', 'incaparina', 'industrial', 'isolate', 'jackfruit', 'jams', 'java-plum', 'jellies', 'jellyfish', 'jerusalem-artichokes', 'jicama', 'juice', 'jujube', 'jute', 'kale', 'kanpyo', 'keikitos', 'kielbasa', 'kiwano', 'kiwifruit', 'knackwurst', 'kohlrabi', 'kumquats', 'lamb', 'lambs', 'lambsquarters', 'lard', 'lasagna', 'lean', 'leavening', 'leaves', 'lebanon', 'leche', 'leeks', 'legs', 'lemon', 'lemonade', 'lemonade-flavor', 'lemons', 'lentils', 'lettuce', 'lima', 'lime', 'limeade', 'limes', 'link', 'links', 'lion', 'litchis', 'liver', 'liverwurst', 'loaf', 'loganberries', 'loin', 'longans', 'loquats', 'lotus', 'lulo', 'lunch', 'luncheon', 'lupins', 'luxury', 'macaroni', 'made', 'malabar', 'malt', 'malted', 'mammy-apple', 'mango', 'mangos', 'mangosteen', 'maraschino', 'margarine', 'margarine-like', 'marmalade', 'mashu', 'mayonnaise', 'meal', 'meat', 'meatballs', 'meatloaf', 'melon', 'melons', 'milk', 'millet', 'miso', 'mixed', 'mocha', 'molasses', 'mollusks', 'moose', 'mortadella', 'mothbeans', \"mother's\", 'mountain', 'mouse', 'muffin', 'muffins', 'mulberries', 'mung', 'mungo', 'mush', 'mushrooms', 'mustard', 'mutton', 'nance', 'naranjilla', 'natto', 'navajo', 'nectar', 'nectarines', 'nettles', 'new', 'noodles', 'nopales', 'novelties', 'nutritional', 'nuts', 'oat', 'oats', 'octopus', 'oheloberries', 'oil', 'oil-butter', 'okara', 'okra', 'olive', 'olives', 'onion', 'onions', 'oopah', 'orange', 'orange-flavor', 'orange-grapefruit', 'oranges', 'ostrich', 'oven-roasted', 'palm', 'pancakes', 'papad', 'papaya', 'papayas', 'parfait', 'parmesan', 'parsley', 'parsnips', 'passion-fruit', 'pasta', 'pastrami', 'pastries', 'pastry', 'pate', 'patties', 'patty', 'pea', 'peach', 'peaches', 'peanut', 'peanuts', 'pear', 'pears', 'peas', 'pectin', 'peel', 'people', 'pepeao', 'pepper', 'peppered', 'peppermint', 'pepperoni', 'peppers', 'persimmons', 'pheasant', 'phyllo', 'pickle', 'pickles', 'picnic', 'pie', 'pigeon', 'pigeonpeas', 'piki', 'pimento', 'pimiento', 'pineapple', 'pinon', 'pitanga', 'pizza', 'plain', 'plantains', 'plums', 'pockets', 'pokeberry', 'pomegranate', 'pomegranates', 'popcorn', 'pork', 'potato', 'potatoes', 'potsticker', 'poultry', 'powder', 'prairie', 'prepared', 'preserves', 'pretzels', 'prickly', 'product', 'products', 'protein', 'prune', 'prunes', 'pudding', 'puddings', 'puff', 'puffs', 'pulled', 'pulp', 'pummelo', 'pumpkin', 'punch', 'punch-flavor', 'puppies', 'puree', 'purslane', 'quail', 'quarters', 'queso', 'quinces', 'quinoa', 'raab', 'radicchio', 'radish', 'radishes', 'raisins', 'rambutan', 'raspberries', 'ravioli', 'ready-to-drink', 'ready-to-eat', 'red', 'reddi', 'reduced', 'refried', 'relish', 'rennin', 'replacement', 'restaurant', 'rhubarb', 'rice', 'rings', 'roast', 'rojos', 'roll', 'rolls', 'root', 'roots', 'rose', 'rose-apples', 'roselle', 'rosemary', 'rowal', 'ruffed', 'rutabagas', 'rye', 'salad', 'salami', 'salmon', 'salmonberries', 'salsify', 'salt', 'sandwich', 'sapodilla', 'sapote', 'sauce', 'sauerkraut', 'sausage', 'school', 'scrapple', 'sea', 'seal', 'seasoning', 'seaweed', 'seeds', 'semolina', 'sesbania', 'shake', 'shakes', 'shallots', 'shell', 'shells', 'sherbet', 'shoots', 'shortening', 'shoyu', 'side', 'smelt', 'smoked', 'smoothie', 'snack', 'snacks', 'sorghum', 'souffle', 'soup', 'sourdock', 'soursop', 'soy', 'soybean', 'soybeans', 'soyburgers', 'soymilk', 'spaghetti', 'spanish', 'spearmint', 'spelt', 'spices', 'spinach', 'split', 'spread', 'sprouts', 'squab', 'squash', 'squirrel', 'steelhead', 'stew', 'stew/soup', 'sticks', 'stinging', 'strawberries', 'strawberry-flavor', 'strudel', 'stuffing', 'substitute', 'substitutes', 'succotash', 'sugar', 'sugar-apples', 'sugars', 'supplement', 'swamp', 'sweet', 'sweetener', 'sweeteners', 'swisswurst', 'syrup', 'syrups', 'taco', 'tamales', 'tamari', 'tamarind', 'tamarinds', 'tangerine', 'tangerines', 'tannier', 'tapioca', 'taquitos', 'taro', 'tart', 'tea', 'teff', 'tempeh', 'tenders', 'tennis', 'thigh', 'thuringer', 'thyme', 'toast', 'toaster', 'toddler', 'tofu', 'tomatillos', 'tomato', 'tomatoes', 'topping', 'toppings', 'tortellini', 'tortilla', 'tortillas', 'tostada', 'triticale', 'trout', 'tuber', 'tunicate', 'tunughnak', 'turkey', 'turnip', 'turnips', 'turnover', 'turtle', 'twists', 'vanilla', 'veal', 'vegetable', 'vegetable-oil', 'vegetables', 'vegetarian', 'veggie', 'venison', 'vermicelli', 'vinegar', 'vinespinach', 'vital', 'volteados', 'waffle', 'waffles', 'walrus', 'wasabi', 'water', 'waterchestnuts', 'watercress', 'watermelon', 'waxgourd', 'weed', 'wheat', 'whey', 'whiskey', 'whole', 'wild', 'willow', 'wine', 'winged', 'wocas', 'wonton', 'wrappers', 'yachtwurst', 'yam', 'yambean', 'yardlong', 'yautia', 'yeast', 'yellow', 'yogurt', 'yogurts', 'zealand', 'zwieback']\n"
          ]
        }
      ]
    },
    {
      "cell_type": "markdown",
      "source": [
        "Okay so now we have an array, which is great, we have all of the food items as individial string items. With the data formed the way that we want we can do the following.\n",
        "- Randomly select an item from the array.\n",
        "- Modify the item choosen to have an Uppercase letter via python string method.\n",
        "- Concatinate the items into a phasephrase and output that for use as a password.\n"
      ],
      "metadata": {
        "id": "K6VphHgayzFz"
      }
    },
    {
      "cell_type": "code",
      "source": [
        "# Import the needed random library\n",
        "import random\n",
        "\n",
        "# Create a function to randomly select and item from the array.\n",
        "def select_random_item():\n",
        "  random_item = random.choice(foodlist)\n",
        "  # Cap the first letter of the string.\n",
        "  random_item = random_item.capitalize()\n",
        "  # Return the value of random_item\n",
        "  return random_item\n",
        "\n",
        "# Print for testing.\n",
        "print(select_random_item())"
      ],
      "metadata": {
        "colab": {
          "base_uri": "https://localhost:8080/"
        },
        "id": "CI-_D0X0zjHI",
        "outputId": "e007785f-9386-4a4f-cf0d-6ff4c118b5ab"
      },
      "execution_count": 5,
      "outputs": [
        {
          "output_type": "stream",
          "name": "stdout",
          "text": [
            "Pokeberry\n"
          ]
        }
      ]
    },
    {
      "cell_type": "markdown",
      "source": [
        "# The Final Function\n",
        "Now that we have our function that selects a random food item from the array and capitalizes the first letter of it. We need to join this randomly selected food items into a passphrase.\n",
        "\n",
        "We also need to add a random number and special character to the end for better password strenght for good measure. We want our users to be secure."
      ],
      "metadata": {
        "id": "wBWYF5Vg8En4"
      }
    },
    {
      "cell_type": "code",
      "source": [
        "# Import the string library, provides more string functions then normal.\n",
        "import string\n",
        "\n",
        "# Testing string methods for random number and special character generation.\n",
        "print(random.choice(string.digits) + random.choice(string.digits) + random.choice(string.punctuation))"
      ],
      "metadata": {
        "colab": {
          "base_uri": "https://localhost:8080/"
        },
        "id": "pIR4f29S8i-h",
        "outputId": "a405e880-86b7-48bb-d5f0-b2af15a078fe"
      },
      "execution_count": 6,
      "outputs": [
        {
          "output_type": "stream",
          "name": "stdout",
          "text": [
            "87:\n"
          ]
        }
      ]
    },
    {
      "cell_type": "markdown",
      "source": [
        "And here is the final result, making use of all of the functionality that we have built out in the previous cells."
      ],
      "metadata": {
        "id": "x4ch9AfnGF5z"
      }
    },
    {
      "cell_type": "code",
      "source": [
        "# Create function that takes and arguement for the divider of the words.\n",
        "def gen_passphrase():\n",
        "  generated_passphrase = select_random_item() + '-' + select_random_item() + '-' + select_random_item() + random.choice(string.digits) + random.choice(string.digits) + random.choice(string.punctuation)\n",
        "  return generated_passphrase\n",
        "gen_passphrase()"
      ],
      "metadata": {
        "colab": {
          "base_uri": "https://localhost:8080/",
          "height": 35
        },
        "id": "Dm2Js9yzCtUP",
        "outputId": "d023aa1a-d712-4fec-8b6b-998d08927d36"
      },
      "execution_count": 14,
      "outputs": [
        {
          "output_type": "execute_result",
          "data": {
            "text/plain": [
              "'Sugar-Cornmeal-Bacon96.'"
            ],
            "application/vnd.google.colaboratory.intrinsic+json": {
              "type": "string"
            }
          },
          "metadata": {},
          "execution_count": 14
        }
      ]
    }
  ]
}